{
 "cells": [
  {
   "cell_type": "code",
   "execution_count": 1,
   "id": "d9ba8587-4b45-41a6-a0a0-2f75e79e67d3",
   "metadata": {},
   "outputs": [],
   "source": [
    "# Importing libraries\n",
    "import pandas as pd\n",
    "import numpy as np\n",
    "import matplotlib.pyplot as plt\n",
    "import seaborn as sns\n",
    "from sklearn.metrics import roc_auc_score,roc_curve\n",
    "from sklearn.metrics import confusion_matrix,accuracy_score\n",
    "\n",
    "import warnings\n",
    "warnings.filterwarnings('ignore')"
   ]
  },
  {
   "cell_type": "code",
   "execution_count": 2,
   "id": "abbc0157-9c7f-4c33-be28-18e355c509c0",
   "metadata": {},
   "outputs": [
    {
     "data": {
      "text/html": [
       "<div>\n",
       "<style scoped>\n",
       "    .dataframe tbody tr th:only-of-type {\n",
       "        vertical-align: middle;\n",
       "    }\n",
       "\n",
       "    .dataframe tbody tr th {\n",
       "        vertical-align: top;\n",
       "    }\n",
       "\n",
       "    .dataframe thead th {\n",
       "        text-align: right;\n",
       "    }\n",
       "</style>\n",
       "<table border=\"1\" class=\"dataframe\">\n",
       "  <thead>\n",
       "    <tr style=\"text-align: right;\">\n",
       "      <th></th>\n",
       "      <th>Age</th>\n",
       "      <th>Race</th>\n",
       "      <th>Marital Status</th>\n",
       "      <th>T Stage</th>\n",
       "      <th>N Stage</th>\n",
       "      <th>6th Stage</th>\n",
       "      <th>differentiate</th>\n",
       "      <th>Grade</th>\n",
       "      <th>A Stage</th>\n",
       "      <th>Tumor Size</th>\n",
       "      <th>Estrogen Status</th>\n",
       "      <th>Progesterone Status</th>\n",
       "      <th>Regional Node Examined</th>\n",
       "      <th>Reginol Node Positive</th>\n",
       "      <th>Survival Months</th>\n",
       "      <th>Status</th>\n",
       "    </tr>\n",
       "  </thead>\n",
       "  <tbody>\n",
       "    <tr>\n",
       "      <th>0</th>\n",
       "      <td>68</td>\n",
       "      <td>White</td>\n",
       "      <td>Married</td>\n",
       "      <td>T1</td>\n",
       "      <td>N1</td>\n",
       "      <td>IIA</td>\n",
       "      <td>Poorly differentiated</td>\n",
       "      <td>3</td>\n",
       "      <td>Regional</td>\n",
       "      <td>4</td>\n",
       "      <td>Positive</td>\n",
       "      <td>Positive</td>\n",
       "      <td>24</td>\n",
       "      <td>1</td>\n",
       "      <td>60</td>\n",
       "      <td>Alive</td>\n",
       "    </tr>\n",
       "    <tr>\n",
       "      <th>1</th>\n",
       "      <td>50</td>\n",
       "      <td>White</td>\n",
       "      <td>Married</td>\n",
       "      <td>T2</td>\n",
       "      <td>N2</td>\n",
       "      <td>IIIA</td>\n",
       "      <td>Moderately differentiated</td>\n",
       "      <td>2</td>\n",
       "      <td>Regional</td>\n",
       "      <td>35</td>\n",
       "      <td>Positive</td>\n",
       "      <td>Positive</td>\n",
       "      <td>14</td>\n",
       "      <td>5</td>\n",
       "      <td>62</td>\n",
       "      <td>Alive</td>\n",
       "    </tr>\n",
       "    <tr>\n",
       "      <th>2</th>\n",
       "      <td>58</td>\n",
       "      <td>White</td>\n",
       "      <td>Divorced</td>\n",
       "      <td>T3</td>\n",
       "      <td>N3</td>\n",
       "      <td>IIIC</td>\n",
       "      <td>Moderately differentiated</td>\n",
       "      <td>2</td>\n",
       "      <td>Regional</td>\n",
       "      <td>63</td>\n",
       "      <td>Positive</td>\n",
       "      <td>Positive</td>\n",
       "      <td>14</td>\n",
       "      <td>7</td>\n",
       "      <td>75</td>\n",
       "      <td>Alive</td>\n",
       "    </tr>\n",
       "    <tr>\n",
       "      <th>3</th>\n",
       "      <td>58</td>\n",
       "      <td>White</td>\n",
       "      <td>Married</td>\n",
       "      <td>T1</td>\n",
       "      <td>N1</td>\n",
       "      <td>IIA</td>\n",
       "      <td>Poorly differentiated</td>\n",
       "      <td>3</td>\n",
       "      <td>Regional</td>\n",
       "      <td>18</td>\n",
       "      <td>Positive</td>\n",
       "      <td>Positive</td>\n",
       "      <td>2</td>\n",
       "      <td>1</td>\n",
       "      <td>84</td>\n",
       "      <td>Alive</td>\n",
       "    </tr>\n",
       "    <tr>\n",
       "      <th>4</th>\n",
       "      <td>47</td>\n",
       "      <td>White</td>\n",
       "      <td>Married</td>\n",
       "      <td>T2</td>\n",
       "      <td>N1</td>\n",
       "      <td>IIB</td>\n",
       "      <td>Poorly differentiated</td>\n",
       "      <td>3</td>\n",
       "      <td>Regional</td>\n",
       "      <td>41</td>\n",
       "      <td>Positive</td>\n",
       "      <td>Positive</td>\n",
       "      <td>3</td>\n",
       "      <td>1</td>\n",
       "      <td>50</td>\n",
       "      <td>Alive</td>\n",
       "    </tr>\n",
       "    <tr>\n",
       "      <th>...</th>\n",
       "      <td>...</td>\n",
       "      <td>...</td>\n",
       "      <td>...</td>\n",
       "      <td>...</td>\n",
       "      <td>...</td>\n",
       "      <td>...</td>\n",
       "      <td>...</td>\n",
       "      <td>...</td>\n",
       "      <td>...</td>\n",
       "      <td>...</td>\n",
       "      <td>...</td>\n",
       "      <td>...</td>\n",
       "      <td>...</td>\n",
       "      <td>...</td>\n",
       "      <td>...</td>\n",
       "      <td>...</td>\n",
       "    </tr>\n",
       "    <tr>\n",
       "      <th>4019</th>\n",
       "      <td>62</td>\n",
       "      <td>Other</td>\n",
       "      <td>Married</td>\n",
       "      <td>T1</td>\n",
       "      <td>N1</td>\n",
       "      <td>IIA</td>\n",
       "      <td>Moderately differentiated</td>\n",
       "      <td>2</td>\n",
       "      <td>Regional</td>\n",
       "      <td>9</td>\n",
       "      <td>Positive</td>\n",
       "      <td>Positive</td>\n",
       "      <td>1</td>\n",
       "      <td>1</td>\n",
       "      <td>49</td>\n",
       "      <td>Alive</td>\n",
       "    </tr>\n",
       "    <tr>\n",
       "      <th>4020</th>\n",
       "      <td>56</td>\n",
       "      <td>White</td>\n",
       "      <td>Divorced</td>\n",
       "      <td>T2</td>\n",
       "      <td>N2</td>\n",
       "      <td>IIIA</td>\n",
       "      <td>Moderately differentiated</td>\n",
       "      <td>2</td>\n",
       "      <td>Regional</td>\n",
       "      <td>46</td>\n",
       "      <td>Positive</td>\n",
       "      <td>Positive</td>\n",
       "      <td>14</td>\n",
       "      <td>8</td>\n",
       "      <td>69</td>\n",
       "      <td>Alive</td>\n",
       "    </tr>\n",
       "    <tr>\n",
       "      <th>4021</th>\n",
       "      <td>68</td>\n",
       "      <td>White</td>\n",
       "      <td>Married</td>\n",
       "      <td>T2</td>\n",
       "      <td>N1</td>\n",
       "      <td>IIB</td>\n",
       "      <td>Moderately differentiated</td>\n",
       "      <td>2</td>\n",
       "      <td>Regional</td>\n",
       "      <td>22</td>\n",
       "      <td>Positive</td>\n",
       "      <td>Negative</td>\n",
       "      <td>11</td>\n",
       "      <td>3</td>\n",
       "      <td>69</td>\n",
       "      <td>Alive</td>\n",
       "    </tr>\n",
       "    <tr>\n",
       "      <th>4022</th>\n",
       "      <td>58</td>\n",
       "      <td>Black</td>\n",
       "      <td>Divorced</td>\n",
       "      <td>T2</td>\n",
       "      <td>N1</td>\n",
       "      <td>IIB</td>\n",
       "      <td>Moderately differentiated</td>\n",
       "      <td>2</td>\n",
       "      <td>Regional</td>\n",
       "      <td>44</td>\n",
       "      <td>Positive</td>\n",
       "      <td>Positive</td>\n",
       "      <td>11</td>\n",
       "      <td>1</td>\n",
       "      <td>72</td>\n",
       "      <td>Alive</td>\n",
       "    </tr>\n",
       "    <tr>\n",
       "      <th>4023</th>\n",
       "      <td>46</td>\n",
       "      <td>White</td>\n",
       "      <td>Married</td>\n",
       "      <td>T2</td>\n",
       "      <td>N1</td>\n",
       "      <td>IIB</td>\n",
       "      <td>Moderately differentiated</td>\n",
       "      <td>2</td>\n",
       "      <td>Regional</td>\n",
       "      <td>30</td>\n",
       "      <td>Positive</td>\n",
       "      <td>Positive</td>\n",
       "      <td>7</td>\n",
       "      <td>2</td>\n",
       "      <td>100</td>\n",
       "      <td>Alive</td>\n",
       "    </tr>\n",
       "  </tbody>\n",
       "</table>\n",
       "<p>4024 rows × 16 columns</p>\n",
       "</div>"
      ],
      "text/plain": [
       "      Age   Race Marital Status T Stage  N Stage 6th Stage  \\\n",
       "0      68  White        Married       T1      N1       IIA   \n",
       "1      50  White        Married       T2      N2      IIIA   \n",
       "2      58  White       Divorced       T3      N3      IIIC   \n",
       "3      58  White        Married       T1      N1       IIA   \n",
       "4      47  White        Married       T2      N1       IIB   \n",
       "...   ...    ...            ...      ...     ...       ...   \n",
       "4019   62  Other        Married       T1      N1       IIA   \n",
       "4020   56  White       Divorced       T2      N2      IIIA   \n",
       "4021   68  White        Married       T2      N1       IIB   \n",
       "4022   58  Black       Divorced       T2      N1       IIB   \n",
       "4023   46  White        Married       T2      N1       IIB   \n",
       "\n",
       "                  differentiate Grade   A Stage  Tumor Size Estrogen Status  \\\n",
       "0         Poorly differentiated     3  Regional           4        Positive   \n",
       "1     Moderately differentiated     2  Regional          35        Positive   \n",
       "2     Moderately differentiated     2  Regional          63        Positive   \n",
       "3         Poorly differentiated     3  Regional          18        Positive   \n",
       "4         Poorly differentiated     3  Regional          41        Positive   \n",
       "...                         ...   ...       ...         ...             ...   \n",
       "4019  Moderately differentiated     2  Regional           9        Positive   \n",
       "4020  Moderately differentiated     2  Regional          46        Positive   \n",
       "4021  Moderately differentiated     2  Regional          22        Positive   \n",
       "4022  Moderately differentiated     2  Regional          44        Positive   \n",
       "4023  Moderately differentiated     2  Regional          30        Positive   \n",
       "\n",
       "     Progesterone Status  Regional Node Examined  Reginol Node Positive  \\\n",
       "0               Positive                      24                      1   \n",
       "1               Positive                      14                      5   \n",
       "2               Positive                      14                      7   \n",
       "3               Positive                       2                      1   \n",
       "4               Positive                       3                      1   \n",
       "...                  ...                     ...                    ...   \n",
       "4019            Positive                       1                      1   \n",
       "4020            Positive                      14                      8   \n",
       "4021            Negative                      11                      3   \n",
       "4022            Positive                      11                      1   \n",
       "4023            Positive                       7                      2   \n",
       "\n",
       "      Survival Months Status  \n",
       "0                  60  Alive  \n",
       "1                  62  Alive  \n",
       "2                  75  Alive  \n",
       "3                  84  Alive  \n",
       "4                  50  Alive  \n",
       "...               ...    ...  \n",
       "4019               49  Alive  \n",
       "4020               69  Alive  \n",
       "4021               69  Alive  \n",
       "4022               72  Alive  \n",
       "4023              100  Alive  \n",
       "\n",
       "[4024 rows x 16 columns]"
      ]
     },
     "execution_count": 2,
     "metadata": {},
     "output_type": "execute_result"
    }
   ],
   "source": [
    "# Importing dataset\n",
    "df=pd.read_csv(r\"C:\\Users\\abdur\\Downloads\\archive (5) (1) (1) (1)\\Breast_Cancer.csv\")\n",
    "df"
   ]
  },
  {
   "cell_type": "code",
   "execution_count": 3,
   "id": "dd89e8b5-0ba0-4bdd-9774-3140d7cd097c",
   "metadata": {},
   "outputs": [
    {
     "data": {
      "text/plain": [
       "(4024, 16)"
      ]
     },
     "execution_count": 3,
     "metadata": {},
     "output_type": "execute_result"
    }
   ],
   "source": [
    "df.shape"
   ]
  },
  {
   "cell_type": "code",
   "execution_count": 4,
   "id": "5583aab2-4819-4ce3-a08a-ae9083b79ff7",
   "metadata": {},
   "outputs": [
    {
     "data": {
      "text/plain": [
       "Age                       0\n",
       "Race                      0\n",
       "Marital Status            0\n",
       "T Stage                   0\n",
       "N Stage                   0\n",
       "6th Stage                 0\n",
       "differentiate             0\n",
       "Grade                     0\n",
       "A Stage                   0\n",
       "Tumor Size                0\n",
       "Estrogen Status           0\n",
       "Progesterone Status       0\n",
       "Regional Node Examined    0\n",
       "Reginol Node Positive     0\n",
       "Survival Months           0\n",
       "Status                    0\n",
       "dtype: int64"
      ]
     },
     "execution_count": 4,
     "metadata": {},
     "output_type": "execute_result"
    }
   ],
   "source": [
    "df.isnull().sum()"
   ]
  },
  {
   "cell_type": "code",
   "execution_count": 5,
   "id": "04bfaeb1-2adb-439a-8a6e-cc9c96be8b03",
   "metadata": {},
   "outputs": [
    {
     "name": "stdout",
     "output_type": "stream",
     "text": [
      "<class 'pandas.core.frame.DataFrame'>\n",
      "RangeIndex: 4024 entries, 0 to 4023\n",
      "Data columns (total 16 columns):\n",
      " #   Column                  Non-Null Count  Dtype \n",
      "---  ------                  --------------  ----- \n",
      " 0   Age                     4024 non-null   int64 \n",
      " 1   Race                    4024 non-null   object\n",
      " 2   Marital Status          4024 non-null   object\n",
      " 3   T Stage                 4024 non-null   object\n",
      " 4   N Stage                 4024 non-null   object\n",
      " 5   6th Stage               4024 non-null   object\n",
      " 6   differentiate           4024 non-null   object\n",
      " 7   Grade                   4024 non-null   object\n",
      " 8   A Stage                 4024 non-null   object\n",
      " 9   Tumor Size              4024 non-null   int64 \n",
      " 10  Estrogen Status         4024 non-null   object\n",
      " 11  Progesterone Status     4024 non-null   object\n",
      " 12  Regional Node Examined  4024 non-null   int64 \n",
      " 13  Reginol Node Positive   4024 non-null   int64 \n",
      " 14  Survival Months         4024 non-null   int64 \n",
      " 15  Status                  4024 non-null   object\n",
      "dtypes: int64(5), object(11)\n",
      "memory usage: 503.1+ KB\n"
     ]
    }
   ],
   "source": [
    "df.info()"
   ]
  },
  {
   "cell_type": "code",
   "execution_count": 6,
   "id": "a7e93b6c-6fee-4273-80ff-02929f8fe268",
   "metadata": {},
   "outputs": [
    {
     "data": {
      "text/plain": [
       "array(['White', 'Black', 'Other'], dtype=object)"
      ]
     },
     "execution_count": 6,
     "metadata": {},
     "output_type": "execute_result"
    }
   ],
   "source": [
    "df.Race.unique()"
   ]
  },
  {
   "cell_type": "code",
   "execution_count": 7,
   "id": "b8e5e19c-ab5c-495d-8572-8b267d5c66a0",
   "metadata": {},
   "outputs": [
    {
     "data": {
      "text/plain": [
       "array(['Married', 'Divorced', 'Single ', 'Widowed', 'Separated'],\n",
       "      dtype=object)"
      ]
     },
     "execution_count": 7,
     "metadata": {},
     "output_type": "execute_result"
    }
   ],
   "source": [
    "df.rename(columns={'Marital Status':'MaritalStatus'},inplace=True)\n",
    "df.MaritalStatus.unique()"
   ]
  },
  {
   "cell_type": "code",
   "execution_count": 8,
   "id": "f5464bf0-bdb7-4576-9bc8-536598564f18",
   "metadata": {},
   "outputs": [
    {
     "data": {
      "text/plain": [
       "array(['Poorly differentiated', 'Moderately differentiated',\n",
       "       'Well differentiated', 'Undifferentiated'], dtype=object)"
      ]
     },
     "execution_count": 8,
     "metadata": {},
     "output_type": "execute_result"
    }
   ],
   "source": [
    "df.differentiate.unique()"
   ]
  },
  {
   "cell_type": "code",
   "execution_count": 9,
   "id": "282a39cf-7586-421b-a5a3-c96d686fc176",
   "metadata": {},
   "outputs": [
    {
     "data": {
      "text/plain": [
       "array(['3', '2', '1', ' anaplastic; Grade IV'], dtype=object)"
      ]
     },
     "execution_count": 9,
     "metadata": {},
     "output_type": "execute_result"
    }
   ],
   "source": [
    "df.Grade.unique()"
   ]
  },
  {
   "cell_type": "code",
   "execution_count": 10,
   "id": "61056485-bd11-40b3-8a23-adcf8ab121a5",
   "metadata": {},
   "outputs": [],
   "source": [
    "df.rename(columns={'Progesterone Status':'ProgesteroneStatus'},inplace=True)"
   ]
  },
  {
   "cell_type": "code",
   "execution_count": 11,
   "id": "8b218413-a7a7-4136-a278-4dbae2ae8fcb",
   "metadata": {},
   "outputs": [
    {
     "name": "stdout",
     "output_type": "stream",
     "text": [
      "Index(['Age', 'Race', 'MaritalStatus', 'T Stage ', 'N Stage', '6th Stage',\n",
      "       'differentiate', 'Grade', 'A Stage', 'Tumor Size', 'Estrogen Status',\n",
      "       'ProgesteroneStatus', 'Regional Node Examined', 'Reginol Node Positive',\n",
      "       'Survival Months', 'Status'],\n",
      "      dtype='object')\n"
     ]
    }
   ],
   "source": [
    "print(df.columns)"
   ]
  },
  {
   "cell_type": "code",
   "execution_count": 12,
   "id": "98bca93a-d952-40b0-beaa-15ad31d0717d",
   "metadata": {},
   "outputs": [
    {
     "data": {
      "text/plain": [
       "array(['Positive', 'Negative'], dtype=object)"
      ]
     },
     "execution_count": 12,
     "metadata": {},
     "output_type": "execute_result"
    }
   ],
   "source": [
    "df.ProgesteroneStatus.unique()"
   ]
  },
  {
   "cell_type": "code",
   "execution_count": 13,
   "id": "b885a384-9ef7-45bd-8a4a-74d943bd6582",
   "metadata": {},
   "outputs": [],
   "source": [
    "df.rename(columns={'6th Stage':'SixthStage'},inplace=True)"
   ]
  },
  {
   "cell_type": "code",
   "execution_count": 14,
   "id": "0d3ec8b7-f10c-4edf-a3ec-8b30a8e940d9",
   "metadata": {},
   "outputs": [
    {
     "name": "stdout",
     "output_type": "stream",
     "text": [
      "Index(['Age', 'Race', 'MaritalStatus', 'T Stage ', 'N Stage', 'SixthStage',\n",
      "       'differentiate', 'Grade', 'A Stage', 'Tumor Size', 'Estrogen Status',\n",
      "       'ProgesteroneStatus', 'Regional Node Examined', 'Reginol Node Positive',\n",
      "       'Survival Months', 'Status'],\n",
      "      dtype='object')\n"
     ]
    }
   ],
   "source": [
    "print(df.columns)"
   ]
  },
  {
   "cell_type": "code",
   "execution_count": 15,
   "id": "13d1c373-eb94-4491-a529-14c95e7388cd",
   "metadata": {},
   "outputs": [
    {
     "data": {
      "text/plain": [
       "array(['IIA', 'IIIA', 'IIIC', 'IIB', 'IIIB'], dtype=object)"
      ]
     },
     "execution_count": 15,
     "metadata": {},
     "output_type": "execute_result"
    }
   ],
   "source": [
    "df.SixthStage.unique()"
   ]
  },
  {
   "cell_type": "code",
   "execution_count": 16,
   "id": "433735aa-cab0-4f45-a997-9cd24489fcb6",
   "metadata": {},
   "outputs": [
    {
     "data": {
      "text/plain": [
       "array(['Positive', 'Negative'], dtype=object)"
      ]
     },
     "execution_count": 16,
     "metadata": {},
     "output_type": "execute_result"
    }
   ],
   "source": [
    "df.rename(columns={'Estrogen Status':'EstrogenStatus'},inplace=True)\n",
    "df.EstrogenStatus.unique()"
   ]
  },
  {
   "cell_type": "code",
   "execution_count": 17,
   "id": "c7a1a1b6-2a98-452f-8fa1-d487c5f62d3d",
   "metadata": {},
   "outputs": [
    {
     "name": "stdout",
     "output_type": "stream",
     "text": [
      "Index(['Age', 'Race', 'MaritalStatus', 'T Stage ', 'N Stage', 'SixthStage',\n",
      "       'differentiate', 'Grade', 'A Stage', 'Tumor Size', 'EstrogenStatus',\n",
      "       'ProgesteroneStatus', 'Regional Node Examined', 'Reginol Node Positive',\n",
      "       'Survival Months', 'Status'],\n",
      "      dtype='object')\n"
     ]
    }
   ],
   "source": [
    "print(df.columns)"
   ]
  },
  {
   "cell_type": "code",
   "execution_count": 18,
   "id": "31964bfa-0779-4277-a1d2-a8a8899eb197",
   "metadata": {},
   "outputs": [
    {
     "data": {
      "text/plain": [
       "array(['Regional', 'Distant'], dtype=object)"
      ]
     },
     "execution_count": 18,
     "metadata": {},
     "output_type": "execute_result"
    }
   ],
   "source": [
    "df.rename(columns={'A Stage':'AStage'},inplace=True)\n",
    "df.AStage.unique()"
   ]
  },
  {
   "cell_type": "code",
   "execution_count": 19,
   "id": "d6d07972-80e8-4888-8a55-3f051ffa86b6",
   "metadata": {},
   "outputs": [
    {
     "data": {
      "text/plain": [
       "array([  4,  35,  63,  18,  41,  20,   8,  30, 103,  32,  13,  59,  15,\n",
       "        19,  46,  24,  25,  29,  40,  70,  22,  50,  17,  21,  10,  27,\n",
       "        23,   5,  51,   9,  55, 120,  77,   2,  11,  12,  26,  75, 130,\n",
       "        34,  80,   3,  60,  14,  16,  45,  36,  76,  38,  49,   7,  72,\n",
       "       100,  43,  62,  37,  68,  52,  85,  57,  39,  28,  48, 110,  65,\n",
       "         6, 105, 140,  42,  31,  90, 108,  98,  47,  54,  61,  74,  33,\n",
       "         1,  87,  81,  58, 117,  44, 123, 133,  95, 107,  92,  69,  56,\n",
       "        82,  66,  78,  97,  88,  53,  83, 101,  84, 115,  73, 125, 104,\n",
       "        94,  86,  64,  96,  79,  67])"
      ]
     },
     "execution_count": 19,
     "metadata": {},
     "output_type": "execute_result"
    }
   ],
   "source": [
    "df.rename(columns={'Tumor Size':'TumorSize'},inplace=True)\n",
    "df.TumorSize.unique()"
   ]
  },
  {
   "cell_type": "code",
   "execution_count": 20,
   "id": "7d20c798-1bab-4998-a631-553103d5e44a",
   "metadata": {},
   "outputs": [
    {
     "data": {
      "text/plain": [
       "array([24, 14,  2,  3, 18, 11,  9, 20, 21, 13, 23, 16,  1, 22, 15,  4, 26,\n",
       "       31, 25, 10,  5,  6, 19, 12,  8, 17,  7, 49, 33, 30, 34, 28, 32, 27,\n",
       "       42, 29, 41, 39, 46, 40, 51, 44, 38, 47, 54, 36, 61, 37, 35, 43, 52,\n",
       "       45, 57, 60])"
      ]
     },
     "execution_count": 20,
     "metadata": {},
     "output_type": "execute_result"
    }
   ],
   "source": [
    "df.rename(columns={'Regional Node Examined':'RegionalNodeExamined'},inplace=True)\n",
    "df.RegionalNodeExamined.unique()"
   ]
  },
  {
   "cell_type": "code",
   "execution_count": 21,
   "id": "ff646928-2cfd-430a-817c-d35fd6a857fa",
   "metadata": {},
   "outputs": [
    {
     "data": {
      "text/plain": [
       "array([ 1,  5,  7,  2, 18, 12,  3, 14, 22, 17, 23,  4, 10,  6,  9,  8, 20,\n",
       "       16, 13, 11, 24, 27, 21, 26, 15, 28, 19, 29, 31, 46, 33, 37, 30, 35,\n",
       "       25, 32, 41, 34])"
      ]
     },
     "execution_count": 21,
     "metadata": {},
     "output_type": "execute_result"
    }
   ],
   "source": [
    "df.rename(columns={'Reginol Node Positive':'ReginolNodePositive'},inplace=True)\n",
    "df.ReginolNodePositive.unique()"
   ]
  },
  {
   "cell_type": "code",
   "execution_count": 22,
   "id": "21845a11-1877-4642-b9bb-88531918c095",
   "metadata": {},
   "outputs": [
    {
     "name": "stdout",
     "output_type": "stream",
     "text": [
      "Index(['Age', 'Race', 'MaritalStatus', 'T Stage ', 'N Stage', 'SixthStage',\n",
      "       'differentiate', 'Grade', 'AStage', 'TumorSize', 'EstrogenStatus',\n",
      "       'ProgesteroneStatus', 'RegionalNodeExamined', 'ReginolNodePositive',\n",
      "       'Survival Months', 'Status'],\n",
      "      dtype='object')\n"
     ]
    }
   ],
   "source": [
    "print(df.columns)"
   ]
  },
  {
   "cell_type": "code",
   "execution_count": 23,
   "id": "1221158a-4f24-4370-a1bf-3f26c687d714",
   "metadata": {},
   "outputs": [
    {
     "data": {
      "text/plain": [
       "array([ 60,  62,  75,  84,  50,  89,  54,  14,  70,  92,  64,  56,  38,\n",
       "        49, 105, 107,  77,  81,  78, 102,  98,  82,  86,  52,  90,  31,\n",
       "        37, 103,  42,  61,  63,  39,  59,  71,  74,  73,  91, 106,  80,\n",
       "        44,  85,  79, 104,  12,  95,  55, 101,  65,  72,  57,  87,  40,\n",
       "        25,   8,  53,  58,  24,  66,  69,  93,  94, 100,  96,  41,  67,\n",
       "        51,  13,  11,  47,  23,  45,  68,  76,  15,  16,  99,   7,  48,\n",
       "        88,  34,  97,  83,  17,   3,  22,  30,   6,  32,   9,   5,  10,\n",
       "        19,  18,  35,  27,  36,   4,  29,  33,  26,  20,  28,  43,   1,\n",
       "        46,  21,   2])"
      ]
     },
     "execution_count": 23,
     "metadata": {},
     "output_type": "execute_result"
    }
   ],
   "source": [
    "df.rename(columns={'Survival Months':'SurvivalMonths'},inplace=True)\n",
    "df.SurvivalMonths.unique()"
   ]
  },
  {
   "cell_type": "code",
   "execution_count": 24,
   "id": "6e6cd79a-d642-4813-952b-0e740e0701ce",
   "metadata": {},
   "outputs": [
    {
     "data": {
      "text/plain": [
       "array(['Alive', 'Dead'], dtype=object)"
      ]
     },
     "execution_count": 24,
     "metadata": {},
     "output_type": "execute_result"
    }
   ],
   "source": [
    "df.Status.unique()"
   ]
  },
  {
   "cell_type": "code",
   "execution_count": 25,
   "id": "542a887f-d9cb-45be-9eac-df0bb0d8f2c9",
   "metadata": {},
   "outputs": [
    {
     "data": {
      "text/plain": [
       "array(['T1', 'T2', 'T3', 'T4'], dtype=object)"
      ]
     },
     "execution_count": 25,
     "metadata": {},
     "output_type": "execute_result"
    }
   ],
   "source": [
    "df.rename(columns={'T Stage ':'TStage'},inplace=True)\n",
    "df.TStage.unique()"
   ]
  },
  {
   "cell_type": "code",
   "execution_count": 26,
   "id": "db0c3dcf-1fea-4701-80b7-81e4a514ccb2",
   "metadata": {},
   "outputs": [
    {
     "name": "stdout",
     "output_type": "stream",
     "text": [
      "Index(['Age', 'Race', 'MaritalStatus', 'TStage', 'N Stage', 'SixthStage',\n",
      "       'differentiate', 'Grade', 'AStage', 'TumorSize', 'EstrogenStatus',\n",
      "       'ProgesteroneStatus', 'RegionalNodeExamined', 'ReginolNodePositive',\n",
      "       'SurvivalMonths', 'Status'],\n",
      "      dtype='object')\n"
     ]
    }
   ],
   "source": [
    "print(df.columns)"
   ]
  },
  {
   "cell_type": "code",
   "execution_count": 27,
   "id": "5e78b1a3-ccc4-47d4-b069-e42f6330c713",
   "metadata": {},
   "outputs": [],
   "source": [
    "df.rename(columns={'N Stage':'NStage'},inplace=True)\n"
   ]
  },
  {
   "cell_type": "code",
   "execution_count": 28,
   "id": "bbbeb261-3524-4116-b95d-ab3e162d903f",
   "metadata": {},
   "outputs": [
    {
     "data": {
      "text/plain": [
       "array(['N1', 'N2', 'N3'], dtype=object)"
      ]
     },
     "execution_count": 28,
     "metadata": {},
     "output_type": "execute_result"
    }
   ],
   "source": [
    "df.NStage.unique()"
   ]
  },
  {
   "cell_type": "code",
   "execution_count": 29,
   "id": "747ab470-5c9e-4aa2-aaab-c63c42b0f0d4",
   "metadata": {},
   "outputs": [],
   "source": [
    "df.rename(columns={' Stage':'NStage'},inplace=True)\n"
   ]
  },
  {
   "cell_type": "code",
   "execution_count": 30,
   "id": "838ac2cd-9a4a-4209-9cf9-5e891350cbb4",
   "metadata": {},
   "outputs": [
    {
     "data": {
      "text/plain": [
       "0       0\n",
       "1       0\n",
       "2       0\n",
       "3       0\n",
       "4       0\n",
       "       ..\n",
       "4019    2\n",
       "4020    0\n",
       "4021    0\n",
       "4022    1\n",
       "4023    0\n",
       "Name: Race, Length: 4024, dtype: int64"
      ]
     },
     "execution_count": 30,
     "metadata": {},
     "output_type": "execute_result"
    }
   ],
   "source": [
    "race={'White':0, 'Black':1, 'Other':2}\n",
    "df['Race']=df.Race.map(race)\n",
    "df['Race']"
   ]
  },
  {
   "cell_type": "code",
   "execution_count": 31,
   "id": "f7b482ab-1b27-46f9-9ec1-46dea465ce8e",
   "metadata": {},
   "outputs": [
    {
     "data": {
      "text/plain": [
       "0       0\n",
       "1       0\n",
       "2       1\n",
       "3       0\n",
       "4       0\n",
       "       ..\n",
       "4019    0\n",
       "4020    1\n",
       "4021    0\n",
       "4022    1\n",
       "4023    0\n",
       "Name: MaritalStatus, Length: 4024, dtype: int64"
      ]
     },
     "execution_count": 31,
     "metadata": {},
     "output_type": "execute_result"
    }
   ],
   "source": [
    "maritalstatus={'Married':0, 'Divorced':1, 'Single ':2, 'Widowed':3, 'Separated':4}\n",
    "df['MaritalStatus']=df.MaritalStatus.map(maritalstatus)\n",
    "df['MaritalStatus']"
   ]
  },
  {
   "cell_type": "code",
   "execution_count": 32,
   "id": "a92b1e8d-0991-464b-873f-f3cf0aeebfb1",
   "metadata": {},
   "outputs": [
    {
     "data": {
      "text/plain": [
       "0       0\n",
       "1       1\n",
       "2       2\n",
       "3       0\n",
       "4       1\n",
       "       ..\n",
       "4019    0\n",
       "4020    1\n",
       "4021    1\n",
       "4022    1\n",
       "4023    1\n",
       "Name: TStage, Length: 4024, dtype: int64"
      ]
     },
     "execution_count": 32,
     "metadata": {},
     "output_type": "execute_result"
    }
   ],
   "source": [
    "tstage={'T1':0, 'T2':1, 'T3':2, 'T4':3}\n",
    "df['TStage']=df.TStage.map(tstage)\n",
    "df['TStage']"
   ]
  },
  {
   "cell_type": "code",
   "execution_count": 33,
   "id": "29b90d36-c897-4b9c-a4db-7e89e586f3db",
   "metadata": {},
   "outputs": [
    {
     "data": {
      "text/plain": [
       "0       0\n",
       "1       1\n",
       "2       2\n",
       "3       0\n",
       "4       0\n",
       "       ..\n",
       "4019    0\n",
       "4020    1\n",
       "4021    0\n",
       "4022    0\n",
       "4023    0\n",
       "Name: NStage, Length: 4024, dtype: int64"
      ]
     },
     "execution_count": 33,
     "metadata": {},
     "output_type": "execute_result"
    }
   ],
   "source": [
    "nstage={'N1':0, 'N2':1, 'N3':2}\n",
    "df['NStage']=df.NStage.map(nstage)\n",
    "df['NStage']"
   ]
  },
  {
   "cell_type": "code",
   "execution_count": 34,
   "id": "b78fa863-d212-4194-9542-bdc403d8f574",
   "metadata": {},
   "outputs": [
    {
     "data": {
      "text/plain": [
       "0       0\n",
       "1       1\n",
       "2       2\n",
       "3       0\n",
       "4       3\n",
       "       ..\n",
       "4019    0\n",
       "4020    1\n",
       "4021    3\n",
       "4022    3\n",
       "4023    3\n",
       "Name: SixthStage, Length: 4024, dtype: int64"
      ]
     },
     "execution_count": 34,
     "metadata": {},
     "output_type": "execute_result"
    }
   ],
   "source": [
    "sixthstage={'IIA':0, 'IIIA':1, 'IIIC':2, 'IIB':3, 'IIIB':3}\n",
    "df['SixthStage']=df.SixthStage.map(sixthstage)\n",
    "df['SixthStage']"
   ]
  },
  {
   "cell_type": "code",
   "execution_count": 35,
   "id": "191b9a70-08ae-4044-98d8-1d751c882e1a",
   "metadata": {},
   "outputs": [
    {
     "data": {
      "text/plain": [
       "0       0\n",
       "1       1\n",
       "2       1\n",
       "3       0\n",
       "4       0\n",
       "       ..\n",
       "4019    1\n",
       "4020    1\n",
       "4021    1\n",
       "4022    1\n",
       "4023    1\n",
       "Name: differentiate, Length: 4024, dtype: int64"
      ]
     },
     "execution_count": 35,
     "metadata": {},
     "output_type": "execute_result"
    }
   ],
   "source": [
    "Differentiate={'Poorly differentiated':0, 'Moderately differentiated':1,'Well differentiated':2, 'Undifferentiated':3}\n",
    "df['differentiate']=df.differentiate.map(Differentiate)\n",
    "df['differentiate']"
   ]
  },
  {
   "cell_type": "code",
   "execution_count": 36,
   "id": "7d62ad53-37e8-4ed1-943b-3d7e236cacb2",
   "metadata": {},
   "outputs": [
    {
     "data": {
      "text/plain": [
       "0       0\n",
       "1       0\n",
       "2       0\n",
       "3       0\n",
       "4       0\n",
       "       ..\n",
       "4019    0\n",
       "4020    0\n",
       "4021    0\n",
       "4022    0\n",
       "4023    0\n",
       "Name: AStage, Length: 4024, dtype: int64"
      ]
     },
     "execution_count": 36,
     "metadata": {},
     "output_type": "execute_result"
    }
   ],
   "source": [
    "astage={'Regional':0, 'Distant':1}\n",
    "df['AStage']=df.AStage.map(astage)\n",
    "df['AStage']"
   ]
  },
  {
   "cell_type": "code",
   "execution_count": 37,
   "id": "1ea595fc-31e2-4a4f-bf3a-68e4fda1a9d6",
   "metadata": {},
   "outputs": [
    {
     "data": {
      "text/plain": [
       "0       0\n",
       "1       0\n",
       "2       0\n",
       "3       0\n",
       "4       0\n",
       "       ..\n",
       "4019    0\n",
       "4020    0\n",
       "4021    0\n",
       "4022    0\n",
       "4023    0\n",
       "Name: EstrogenStatus, Length: 4024, dtype: int64"
      ]
     },
     "execution_count": 37,
     "metadata": {},
     "output_type": "execute_result"
    }
   ],
   "source": [
    "estrogenStatus={'Positive':0, 'Negative':1}\n",
    "df['EstrogenStatus']=df.EstrogenStatus.map(estrogenStatus)\n",
    "df['EstrogenStatus']"
   ]
  },
  {
   "cell_type": "code",
   "execution_count": 38,
   "id": "fe56336f-a9e5-4eef-b27d-715629b5a431",
   "metadata": {},
   "outputs": [
    {
     "data": {
      "text/plain": [
       "0       0\n",
       "1       0\n",
       "2       0\n",
       "3       0\n",
       "4       0\n",
       "       ..\n",
       "4019    0\n",
       "4020    0\n",
       "4021    1\n",
       "4022    0\n",
       "4023    0\n",
       "Name: ProgesteroneStatus, Length: 4024, dtype: int64"
      ]
     },
     "execution_count": 38,
     "metadata": {},
     "output_type": "execute_result"
    }
   ],
   "source": [
    "progesteroneStatus={'Positive':0, 'Negative':1}\n",
    "df['ProgesteroneStatus']=df.ProgesteroneStatus.map(progesteroneStatus)\n",
    "df['ProgesteroneStatus']"
   ]
  },
  {
   "cell_type": "code",
   "execution_count": 39,
   "id": "54faa4fe-0bf1-4422-b61d-9d596c84fa11",
   "metadata": {},
   "outputs": [
    {
     "data": {
      "text/plain": [
       "0       0\n",
       "1       1\n",
       "2       1\n",
       "3       0\n",
       "4       0\n",
       "       ..\n",
       "4019    1\n",
       "4020    1\n",
       "4021    1\n",
       "4022    1\n",
       "4023    1\n",
       "Name: Grade, Length: 4024, dtype: int64"
      ]
     },
     "execution_count": 39,
     "metadata": {},
     "output_type": "execute_result"
    }
   ],
   "source": [
    "grade={'3':0, '2':1, '1':2, ' anaplastic; Grade IV':3}\n",
    "df['Grade']=df.Grade.map(grade)\n",
    "df['Grade']"
   ]
  },
  {
   "cell_type": "code",
   "execution_count": 40,
   "id": "f441490a-436a-4793-8d9f-c9eb646715e4",
   "metadata": {},
   "outputs": [
    {
     "data": {
      "text/plain": [
       "0       0\n",
       "1       0\n",
       "2       0\n",
       "3       0\n",
       "4       0\n",
       "       ..\n",
       "4019    0\n",
       "4020    0\n",
       "4021    0\n",
       "4022    0\n",
       "4023    0\n",
       "Name: Status, Length: 4024, dtype: int64"
      ]
     },
     "execution_count": 40,
     "metadata": {},
     "output_type": "execute_result"
    }
   ],
   "source": [
    "status={'Alive':0 ,'Dead':1}\n",
    "df['Status']=df.Status.map(status)\n",
    "df['Status']"
   ]
  },
  {
   "cell_type": "code",
   "execution_count": 41,
   "id": "4c8f5f69-51f5-405a-85ab-ef5d0e121b42",
   "metadata": {},
   "outputs": [
    {
     "data": {
      "text/html": [
       "<div>\n",
       "<style scoped>\n",
       "    .dataframe tbody tr th:only-of-type {\n",
       "        vertical-align: middle;\n",
       "    }\n",
       "\n",
       "    .dataframe tbody tr th {\n",
       "        vertical-align: top;\n",
       "    }\n",
       "\n",
       "    .dataframe thead th {\n",
       "        text-align: right;\n",
       "    }\n",
       "</style>\n",
       "<table border=\"1\" class=\"dataframe\">\n",
       "  <thead>\n",
       "    <tr style=\"text-align: right;\">\n",
       "      <th></th>\n",
       "      <th>Age</th>\n",
       "      <th>Race</th>\n",
       "      <th>MaritalStatus</th>\n",
       "      <th>TStage</th>\n",
       "      <th>NStage</th>\n",
       "      <th>SixthStage</th>\n",
       "      <th>differentiate</th>\n",
       "      <th>Grade</th>\n",
       "      <th>AStage</th>\n",
       "      <th>TumorSize</th>\n",
       "      <th>EstrogenStatus</th>\n",
       "      <th>ProgesteroneStatus</th>\n",
       "      <th>RegionalNodeExamined</th>\n",
       "      <th>ReginolNodePositive</th>\n",
       "      <th>SurvivalMonths</th>\n",
       "      <th>Status</th>\n",
       "    </tr>\n",
       "  </thead>\n",
       "  <tbody>\n",
       "    <tr>\n",
       "      <th>0</th>\n",
       "      <td>68</td>\n",
       "      <td>0</td>\n",
       "      <td>0</td>\n",
       "      <td>0</td>\n",
       "      <td>0</td>\n",
       "      <td>0</td>\n",
       "      <td>0</td>\n",
       "      <td>0</td>\n",
       "      <td>0</td>\n",
       "      <td>4</td>\n",
       "      <td>0</td>\n",
       "      <td>0</td>\n",
       "      <td>24</td>\n",
       "      <td>1</td>\n",
       "      <td>60</td>\n",
       "      <td>0</td>\n",
       "    </tr>\n",
       "    <tr>\n",
       "      <th>1</th>\n",
       "      <td>50</td>\n",
       "      <td>0</td>\n",
       "      <td>0</td>\n",
       "      <td>1</td>\n",
       "      <td>1</td>\n",
       "      <td>1</td>\n",
       "      <td>1</td>\n",
       "      <td>1</td>\n",
       "      <td>0</td>\n",
       "      <td>35</td>\n",
       "      <td>0</td>\n",
       "      <td>0</td>\n",
       "      <td>14</td>\n",
       "      <td>5</td>\n",
       "      <td>62</td>\n",
       "      <td>0</td>\n",
       "    </tr>\n",
       "    <tr>\n",
       "      <th>2</th>\n",
       "      <td>58</td>\n",
       "      <td>0</td>\n",
       "      <td>1</td>\n",
       "      <td>2</td>\n",
       "      <td>2</td>\n",
       "      <td>2</td>\n",
       "      <td>1</td>\n",
       "      <td>1</td>\n",
       "      <td>0</td>\n",
       "      <td>63</td>\n",
       "      <td>0</td>\n",
       "      <td>0</td>\n",
       "      <td>14</td>\n",
       "      <td>7</td>\n",
       "      <td>75</td>\n",
       "      <td>0</td>\n",
       "    </tr>\n",
       "    <tr>\n",
       "      <th>3</th>\n",
       "      <td>58</td>\n",
       "      <td>0</td>\n",
       "      <td>0</td>\n",
       "      <td>0</td>\n",
       "      <td>0</td>\n",
       "      <td>0</td>\n",
       "      <td>0</td>\n",
       "      <td>0</td>\n",
       "      <td>0</td>\n",
       "      <td>18</td>\n",
       "      <td>0</td>\n",
       "      <td>0</td>\n",
       "      <td>2</td>\n",
       "      <td>1</td>\n",
       "      <td>84</td>\n",
       "      <td>0</td>\n",
       "    </tr>\n",
       "    <tr>\n",
       "      <th>4</th>\n",
       "      <td>47</td>\n",
       "      <td>0</td>\n",
       "      <td>0</td>\n",
       "      <td>1</td>\n",
       "      <td>0</td>\n",
       "      <td>3</td>\n",
       "      <td>0</td>\n",
       "      <td>0</td>\n",
       "      <td>0</td>\n",
       "      <td>41</td>\n",
       "      <td>0</td>\n",
       "      <td>0</td>\n",
       "      <td>3</td>\n",
       "      <td>1</td>\n",
       "      <td>50</td>\n",
       "      <td>0</td>\n",
       "    </tr>\n",
       "    <tr>\n",
       "      <th>...</th>\n",
       "      <td>...</td>\n",
       "      <td>...</td>\n",
       "      <td>...</td>\n",
       "      <td>...</td>\n",
       "      <td>...</td>\n",
       "      <td>...</td>\n",
       "      <td>...</td>\n",
       "      <td>...</td>\n",
       "      <td>...</td>\n",
       "      <td>...</td>\n",
       "      <td>...</td>\n",
       "      <td>...</td>\n",
       "      <td>...</td>\n",
       "      <td>...</td>\n",
       "      <td>...</td>\n",
       "      <td>...</td>\n",
       "    </tr>\n",
       "    <tr>\n",
       "      <th>4019</th>\n",
       "      <td>62</td>\n",
       "      <td>2</td>\n",
       "      <td>0</td>\n",
       "      <td>0</td>\n",
       "      <td>0</td>\n",
       "      <td>0</td>\n",
       "      <td>1</td>\n",
       "      <td>1</td>\n",
       "      <td>0</td>\n",
       "      <td>9</td>\n",
       "      <td>0</td>\n",
       "      <td>0</td>\n",
       "      <td>1</td>\n",
       "      <td>1</td>\n",
       "      <td>49</td>\n",
       "      <td>0</td>\n",
       "    </tr>\n",
       "    <tr>\n",
       "      <th>4020</th>\n",
       "      <td>56</td>\n",
       "      <td>0</td>\n",
       "      <td>1</td>\n",
       "      <td>1</td>\n",
       "      <td>1</td>\n",
       "      <td>1</td>\n",
       "      <td>1</td>\n",
       "      <td>1</td>\n",
       "      <td>0</td>\n",
       "      <td>46</td>\n",
       "      <td>0</td>\n",
       "      <td>0</td>\n",
       "      <td>14</td>\n",
       "      <td>8</td>\n",
       "      <td>69</td>\n",
       "      <td>0</td>\n",
       "    </tr>\n",
       "    <tr>\n",
       "      <th>4021</th>\n",
       "      <td>68</td>\n",
       "      <td>0</td>\n",
       "      <td>0</td>\n",
       "      <td>1</td>\n",
       "      <td>0</td>\n",
       "      <td>3</td>\n",
       "      <td>1</td>\n",
       "      <td>1</td>\n",
       "      <td>0</td>\n",
       "      <td>22</td>\n",
       "      <td>0</td>\n",
       "      <td>1</td>\n",
       "      <td>11</td>\n",
       "      <td>3</td>\n",
       "      <td>69</td>\n",
       "      <td>0</td>\n",
       "    </tr>\n",
       "    <tr>\n",
       "      <th>4022</th>\n",
       "      <td>58</td>\n",
       "      <td>1</td>\n",
       "      <td>1</td>\n",
       "      <td>1</td>\n",
       "      <td>0</td>\n",
       "      <td>3</td>\n",
       "      <td>1</td>\n",
       "      <td>1</td>\n",
       "      <td>0</td>\n",
       "      <td>44</td>\n",
       "      <td>0</td>\n",
       "      <td>0</td>\n",
       "      <td>11</td>\n",
       "      <td>1</td>\n",
       "      <td>72</td>\n",
       "      <td>0</td>\n",
       "    </tr>\n",
       "    <tr>\n",
       "      <th>4023</th>\n",
       "      <td>46</td>\n",
       "      <td>0</td>\n",
       "      <td>0</td>\n",
       "      <td>1</td>\n",
       "      <td>0</td>\n",
       "      <td>3</td>\n",
       "      <td>1</td>\n",
       "      <td>1</td>\n",
       "      <td>0</td>\n",
       "      <td>30</td>\n",
       "      <td>0</td>\n",
       "      <td>0</td>\n",
       "      <td>7</td>\n",
       "      <td>2</td>\n",
       "      <td>100</td>\n",
       "      <td>0</td>\n",
       "    </tr>\n",
       "  </tbody>\n",
       "</table>\n",
       "<p>4024 rows × 16 columns</p>\n",
       "</div>"
      ],
      "text/plain": [
       "      Age  Race  MaritalStatus  TStage  NStage  SixthStage  differentiate  \\\n",
       "0      68     0              0       0       0           0              0   \n",
       "1      50     0              0       1       1           1              1   \n",
       "2      58     0              1       2       2           2              1   \n",
       "3      58     0              0       0       0           0              0   \n",
       "4      47     0              0       1       0           3              0   \n",
       "...   ...   ...            ...     ...     ...         ...            ...   \n",
       "4019   62     2              0       0       0           0              1   \n",
       "4020   56     0              1       1       1           1              1   \n",
       "4021   68     0              0       1       0           3              1   \n",
       "4022   58     1              1       1       0           3              1   \n",
       "4023   46     0              0       1       0           3              1   \n",
       "\n",
       "      Grade  AStage  TumorSize  EstrogenStatus  ProgesteroneStatus  \\\n",
       "0         0       0          4               0                   0   \n",
       "1         1       0         35               0                   0   \n",
       "2         1       0         63               0                   0   \n",
       "3         0       0         18               0                   0   \n",
       "4         0       0         41               0                   0   \n",
       "...     ...     ...        ...             ...                 ...   \n",
       "4019      1       0          9               0                   0   \n",
       "4020      1       0         46               0                   0   \n",
       "4021      1       0         22               0                   1   \n",
       "4022      1       0         44               0                   0   \n",
       "4023      1       0         30               0                   0   \n",
       "\n",
       "      RegionalNodeExamined  ReginolNodePositive  SurvivalMonths  Status  \n",
       "0                       24                    1              60       0  \n",
       "1                       14                    5              62       0  \n",
       "2                       14                    7              75       0  \n",
       "3                        2                    1              84       0  \n",
       "4                        3                    1              50       0  \n",
       "...                    ...                  ...             ...     ...  \n",
       "4019                     1                    1              49       0  \n",
       "4020                    14                    8              69       0  \n",
       "4021                    11                    3              69       0  \n",
       "4022                    11                    1              72       0  \n",
       "4023                     7                    2             100       0  \n",
       "\n",
       "[4024 rows x 16 columns]"
      ]
     },
     "execution_count": 41,
     "metadata": {},
     "output_type": "execute_result"
    }
   ],
   "source": [
    "df"
   ]
  },
  {
   "cell_type": "code",
   "execution_count": 42,
   "id": "682e5f6b-cf32-48b2-a7dd-0f7716cf6445",
   "metadata": {},
   "outputs": [],
   "source": [
    "X = df.iloc[:, :-1]\n",
    "y = df.iloc[:, -1]\n",
    "df.replace([np.inf, -np.inf], np.nan, inplace=True)\n",
    "df.fillna(999, inplace=True)"
   ]
  },
  {
   "cell_type": "code",
   "execution_count": 43,
   "id": "4939cedb-1849-4ac4-b84f-8d58b8d098b3",
   "metadata": {},
   "outputs": [],
   "source": [
    "from sklearn.model_selection import train_test_split\n",
    "X_train, X_test, Y_train, Y_test = train_test_split(X, y, test_size = 0.20, \n",
    "                                                    stratify = df['Status'] )"
   ]
  },
  {
   "cell_type": "code",
   "execution_count": 44,
   "id": "58a20a68-0996-4f0b-9d34-7eb7a62e8ce0",
   "metadata": {},
   "outputs": [
    {
     "name": "stdout",
     "output_type": "stream",
     "text": [
      "X_train shape: (3219, 15)\n",
      "X_test shape: (805, 15)\n",
      "Y_train shape: (3219,)\n",
      "Y_test shape: (805,)\n"
     ]
    }
   ],
   "source": [
    "print(\"X_train shape:\", X_train.shape)\n",
    "print(\"X_test shape:\", X_test.shape)\n",
    "print(\"Y_train shape:\", Y_train.shape)\n",
    "print(\"Y_test shape:\", Y_test.shape)"
   ]
  },
  {
   "cell_type": "code",
   "execution_count": 45,
   "id": "8d2b7101-9277-47ce-ad75-77476fd0155f",
   "metadata": {},
   "outputs": [],
   "source": [
    "def content(name,ytest,pred):\n",
    "    print(\"-----------\",name,\"-----------------\")\n",
    "    import seaborn as sns\n",
    "    plt.title(\"Confusion matrix\")\n",
    "    sns.heatmap((confusion_matrix(Y_test, pred)%100), annot=True, cmap=\"YlGn\")\n",
    "    plt.xlabel('Predicted classes')\n",
    "    plt.ylabel('True Classes')\n",
    "    plt.figure(figsize=(6,6)) \n",
    "    plt.show()\n",
    "    \n",
    "    conf_Mat=(confusion_matrix(Y_test, pred)%100)\n",
    "    TN = conf_Mat[0][0]\n",
    "    FN = conf_Mat[1][0]\n",
    "    TP = conf_Mat[1][1]\n",
    "    FP = conf_Mat[0][1]\n",
    "\n",
    "                        \n",
    "\n",
    "    Sensitivity=TP/(TP+FN)*100\n",
    "    print(\"--------------Sensitivity----------------\")\n",
    "    print(\"Sensitivity of\", name ,\" is\" ,round(Sensitivity,2))\n",
    "\n",
    "    Specificity=TN/(TN+FP)*100\n",
    "    print(\"--------------Specificity----------------\")\n",
    "    print(\"Specificity of\",name,\" is\",round(Specificity,2))"
   ]
  },
  {
   "cell_type": "code",
   "execution_count": 46,
   "id": "f74574bc-7bc9-4036-ae7c-cdc41cb2987c",
   "metadata": {},
   "outputs": [
    {
     "name": "stdout",
     "output_type": "stream",
     "text": [
      "----------- Ada Boost -----------------\n"
     ]
    },
    {
     "data": {
      "image/png": "[encoded data removed]",
      "text/plain": [
       "<Figure size 640x480 with 2 Axes>"
      ]
     },
     "metadata": {},
     "output_type": "display_data"
    },
    {
     "data": {
      "text/plain": [
       "<Figure size 600x600 with 0 Axes>"
      ]
     },
     "metadata": {},
     "output_type": "display_data"
    },
    {
     "name": "stdout",
     "output_type": "stream",
     "text": [
      "--------------Sensitivity----------------\n",
      "Sensitivity of Ada Boost  is 57.72\n",
      "--------------Specificity----------------\n",
      "Specificity of Ada Boost  is 69.51\n"
     ]
    }
   ],
   "source": [
    "from sklearn.ensemble import AdaBoostClassifier\n",
    "from sklearn.datasets import make_classification\n",
    "abc = make_classification(n_samples=1000, n_features=4,\n",
    "                           n_informative=2, n_redundant=0,\n",
    "                           random_state=0, shuffle=False)\n",
    "abc = AdaBoostClassifier(n_estimators=100, random_state=0)\n",
    "abc.fit(X_train, Y_train)\n",
    "pred_abc=abc.predict(X_test)\n",
    "content(\"Ada Boost\",Y_test, pred_abc)"
   ]
  },
  {
   "cell_type": "code",
   "execution_count": 47,
   "id": "ca4b5bb2-18a9-41c9-b10b-d37631ef1508",
   "metadata": {},
   "outputs": [
    {
     "name": "stdout",
     "output_type": "stream",
     "text": [
      "----------- svm -----------------\n"
     ]
    },
    {
     "data": {
      "image/png": "[encoded data removed]",
      "text/plain": [
       "<Figure size 640x480 with 2 Axes>"
      ]
     },
     "metadata": {},
     "output_type": "display_data"
    },
    {
     "data": {
      "text/plain": [
       "<Figure size 600x600 with 0 Axes>"
      ]
     },
     "metadata": {},
     "output_type": "display_data"
    },
    {
     "name": "stdout",
     "output_type": "stream",
     "text": [
      "--------------Sensitivity----------------\n",
      "Sensitivity of svm  is 48.78\n",
      "--------------Specificity----------------\n",
      "Specificity of svm  is 87.8\n"
     ]
    }
   ],
   "source": [
    "from sklearn.svm import SVC\n",
    "svc = SVC(kernel = 'linear', random_state = 42)\n",
    "svc.fit(X_train, Y_train)\n",
    "pred_svc=svc.predict(X_test)\n",
    "content(\"svm\",Y_test, pred_svc)"
   ]
  },
  {
   "cell_type": "code",
   "execution_count": 48,
   "id": "b269bba3-f5be-4a28-9f6f-ae99a5f7dd0f",
   "metadata": {},
   "outputs": [
    {
     "name": "stdout",
     "output_type": "stream",
     "text": [
      "----------- ranfor -----------------\n"
     ]
    },
    {
     "data": {
      "image/png": "[encoded data removed]",
      "text/plain": [
       "<Figure size 640x480 with 2 Axes>"
      ]
     },
     "metadata": {},
     "output_type": "display_data"
    },
    {
     "data": {
      "text/plain": [
       "<Figure size 600x600 with 0 Axes>"
      ]
     },
     "metadata": {},
     "output_type": "display_data"
    },
    {
     "name": "stdout",
     "output_type": "stream",
     "text": [
      "--------------Sensitivity----------------\n",
      "Sensitivity of ranfor  is 48.78\n",
      "--------------Specificity----------------\n",
      "Specificity of ranfor  is 87.8\n"
     ]
    }
   ],
   "source": [
    "from sklearn.ensemble import RandomForestClassifier\n",
    "ranfor = RandomForestClassifier(n_estimators = 11, criterion = 'entropy', random_state = 42)\n",
    "ranfor.fit(X_train, Y_train)\n",
    "pred_ranfor=ranfor.predict(X_test)\n",
    "content(\"ranfor\",Y_test, pred_svc)"
   ]
  },
  {
   "cell_type": "code",
   "execution_count": 49,
   "id": "714a06d7-703b-460e-a258-927d202e652b",
   "metadata": {},
   "outputs": [
    {
     "name": "stdout",
     "output_type": "stream",
     "text": [
      "----------- KNeighborsClassifier -----------------\n"
     ]
    },
    {
     "data": {
      "image/png": "[encoded data removed]",
      "text/plain": [
       "<Figure size 640x480 with 2 Axes>"
      ]
     },
     "metadata": {},
     "output_type": "display_data"
    },
    {
     "data": {
      "text/plain": [
       "<Figure size 600x600 with 0 Axes>"
      ]
     },
     "metadata": {},
     "output_type": "display_data"
    },
    {
     "name": "stdout",
     "output_type": "stream",
     "text": [
      "--------------Sensitivity----------------\n",
      "Sensitivity of KNeighborsClassifier  is 51.22\n",
      "--------------Specificity----------------\n",
      "Specificity of KNeighborsClassifier  is 79.27\n"
     ]
    }
   ],
   "source": [
    "from sklearn import metrics\n",
    "from sklearn.neighbors import KNeighborsClassifier\n",
    "knn = KNeighborsClassifier(n_neighbors = 24, metric = 'minkowski', p = 2)\n",
    "knn.fit(X_train, Y_train)\n",
    "pred_knn=knn.predict(X_test)\n",
    "content(\"KNeighborsClassifier\",Y_test, pred_knn)"
   ]
  },
  {
   "cell_type": "code",
   "execution_count": 50,
   "id": "308336fd-2775-4167-bee8-7d1b798714cf",
   "metadata": {},
   "outputs": [
    {
     "name": "stdout",
     "output_type": "stream",
     "text": [
      "----------- MLPClassifier -----------------\n"
     ]
    },
    {
     "data": {
      "image/png": "[encoded data removed]",
      "text/plain": [
       "<Figure size 640x480 with 2 Axes>"
      ]
     },
     "metadata": {},
     "output_type": "display_data"
    },
    {
     "data": {
      "text/plain": [
       "<Figure size 600x600 with 0 Axes>"
      ]
     },
     "metadata": {},
     "output_type": "display_data"
    },
    {
     "name": "stdout",
     "output_type": "stream",
     "text": [
      "--------------Sensitivity----------------\n",
      "Sensitivity of MLPClassifier  is 59.35\n",
      "--------------Specificity----------------\n",
      "Specificity of MLPClassifier  is 67.07\n"
     ]
    }
   ],
   "source": [
    "from sklearn.neural_network import MLPClassifier\n",
    "clf = MLPClassifier(random_state=1, max_iter=300)\n",
    "clf.fit(X_train, Y_train)\n",
    "pred_clf=clf.predict(X_test)\n",
    "content(\"MLPClassifier\",Y_test, pred_clf)"
   ]
  },
  {
   "cell_type": "code",
   "execution_count": 51,
   "id": "c12e1880-65e1-432d-be92-d625bb581408",
   "metadata": {},
   "outputs": [
    {
     "name": "stdout",
     "output_type": "stream",
     "text": [
      "----------- load_iris -----------------\n"
     ]
    },
    {
     "data": {
      "image/png": "[encoded data removed]",
      "text/plain": [
       "<Figure size 640x480 with 2 Axes>"
      ]
     },
     "metadata": {},
     "output_type": "display_data"
    },
    {
     "data": {
      "text/plain": [
       "<Figure size 600x600 with 0 Axes>"
      ]
     },
     "metadata": {},
     "output_type": "display_data"
    },
    {
     "name": "stdout",
     "output_type": "stream",
     "text": [
      "--------------Sensitivity----------------\n",
      "Sensitivity of load_iris  is 52.03\n",
      "--------------Specificity----------------\n",
      "Specificity of load_iris  is 12.2\n"
     ]
    }
   ],
   "source": [
    "from sklearn.datasets import load_iris\n",
    "from sklearn.model_selection import train_test_split\n",
    "from sklearn.naive_bayes import GaussianNB\n",
    "gnb = GaussianNB()\n",
    "gnb.fit(X_train, Y_train)\n",
    "pred_gnb=gnb.predict(X_test)\n",
    "content(\"load_iris\",Y_test, pred_gnb)"
   ]
  },
  {
   "cell_type": "code",
   "execution_count": 52,
   "id": "3bb154e4-5324-4473-ab9c-1e9fc4d12d06",
   "metadata": {},
   "outputs": [
    {
     "name": "stdout",
     "output_type": "stream",
     "text": [
      "----------- decision_tree -----------------\n"
     ]
    },
    {
     "data": {
      "image/png": "[encoded data removed]",
      "text/plain": [
       "<Figure size 640x480 with 2 Axes>"
      ]
     },
     "metadata": {},
     "output_type": "display_data"
    },
    {
     "data": {
      "text/plain": [
       "<Figure size 600x600 with 0 Axes>"
      ]
     },
     "metadata": {},
     "output_type": "display_data"
    },
    {
     "name": "stdout",
     "output_type": "stream",
     "text": [
      "--------------Sensitivity----------------\n",
      "Sensitivity of decision_tree  is 59.35\n",
      "--------------Specificity----------------\n",
      "Specificity of decision_tree  is 62.2\n"
     ]
    }
   ],
   "source": [
    "from sklearn.datasets import load_iris\n",
    "from sklearn.tree import DecisionTreeClassifier\n",
    "from sklearn.tree import export_text\n",
    "decision_tree = DecisionTreeClassifier(random_state=0, max_depth=2)\n",
    "decision_tree.fit(X_train, Y_train)\n",
    "pred_decision_tree=decision_tree.predict(X_test)\n",
    "content(\"decision_tree\",Y_test, pred_decision_tree)"
   ]
  },
  {
   "cell_type": "code",
   "execution_count": 53,
   "id": "c3634f23-0f2a-4ee3-8a53-65bb3593e186",
   "metadata": {},
   "outputs": [
    {
     "name": "stdout",
     "output_type": "stream",
     "text": [
      "----------- LogisticRegression -----------------\n"
     ]
    },
    {
     "data": {
      "image/png": "[encoded data removed]",
      "text/plain": [
       "<Figure size 640x480 with 2 Axes>"
      ]
     },
     "metadata": {},
     "output_type": "display_data"
    },
    {
     "data": {
      "text/plain": [
       "<Figure size 600x600 with 0 Axes>"
      ]
     },
     "metadata": {},
     "output_type": "display_data"
    },
    {
     "name": "stdout",
     "output_type": "stream",
     "text": [
      "--------------Sensitivity----------------\n",
      "Sensitivity of LogisticRegression  is 52.85\n",
      "--------------Specificity----------------\n",
      "Specificity of LogisticRegression  is 82.93\n"
     ]
    }
   ],
   "source": [
    "from sklearn.linear_model import LogisticRegression\n",
    "\n",
    "lr = LogisticRegression()\n",
    "clf = LogisticRegression(random_state=0)\n",
    "clf.fit(X_train, Y_train)\n",
    "pred_clf=clf.predict(X_test)\n",
    "content(\"LogisticRegression\",Y_test, pred_clf)"
   ]
  },
  {
   "cell_type": "code",
   "execution_count": 54,
   "id": "b5446b13-6f10-4573-801f-1a92cd6e71b3",
   "metadata": {},
   "outputs": [
    {
     "name": "stdout",
     "output_type": "stream",
     "text": [
      "----------- GradientBoostingClassifier -----------------\n"
     ]
    },
    {
     "data": {
      "image/png": "[encoded data removed]",
      "text/plain": [
       "<Figure size 640x480 with 2 Axes>"
      ]
     },
     "metadata": {},
     "output_type": "display_data"
    },
    {
     "data": {
      "text/plain": [
       "<Figure size 600x600 with 0 Axes>"
      ]
     },
     "metadata": {},
     "output_type": "display_data"
    },
    {
     "name": "stdout",
     "output_type": "stream",
     "text": [
      "--------------Sensitivity----------------\n",
      "Sensitivity of GradientBoostingClassifier  is 58.54\n",
      "--------------Specificity----------------\n",
      "Specificity of GradientBoostingClassifier  is 71.95\n"
     ]
    }
   ],
   "source": [
    "from sklearn.datasets import make_hastie_10_2\n",
    "from sklearn.ensemble import GradientBoostingClassifier\n",
    "clf = GradientBoostingClassifier(n_estimators=100, learning_rate=1.0,max_depth=1, random_state=0)\n",
    "clf.fit(X_train, Y_train)\n",
    "pred_clf=clf.predict(X_test)\n",
    "content(\"GradientBoostingClassifier\",Y_test, pred_clf)"
   ]
  },
  {
   "cell_type": "code",
   "execution_count": null,
   "id": "8852f282-22f3-4798-8e8c-814374bdcd9a",
   "metadata": {},
   "outputs": [],
   "source": []
  },
  {
   "cell_type": "code",
   "execution_count": null,
   "id": "9ede7e28-6e1b-4ab1-930d-3565d662ce85",
   "metadata": {},
   "outputs": [],
   "source": []
  },
  {
   "cell_type": "code",
   "execution_count": null,
   "id": "1ad4a12d-1055-476f-8a58-340179f6401d",
   "metadata": {},
   "outputs": [],
   "source": []
  }
 ],
 "metadata": {
  "kernelspec": {
   "display_name": "Python 3 (ipykernel)",
   "language": "python",
   "name": "python3"
  },
  "language_info": {
   "codemirror_mode": {
    "name": "ipython",
    "version": 3
   },
   "file_extension": ".py",
   "mimetype": "text/x-python",
   "name": "python",
   "nbconvert_exporter": "python",
   "pygments_lexer": "ipython3",
   "version": "3.13.5"
  }
 },
 "nbformat": 4,
 "nbformat_minor": 5
}
